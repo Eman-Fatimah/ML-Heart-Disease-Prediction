{
 "cells": [
  {
   "cell_type": "markdown",
   "metadata": {},
   "source": [
    "### Importing libraries"
   ]
  },
  {
   "cell_type": "code",
   "execution_count": 1,
   "metadata": {},
   "outputs": [],
   "source": [
    "import numpy as np\n",
    "import pandas as pd\n",
    "import matplotlib.pyplot as plt\n",
    "from sklearn.impute import SimpleImputer\n",
    "from sklearn.preprocessing import LabelEncoder,OneHotEncoder\n",
    "from sklearn.compose import ColumnTransformer\n",
    "from sklearn.preprocessing import StandardScaler\n",
    "from sklearn.linear_model import LogisticRegression\n",
    "from sklearn.neighbors import KNeighborsClassifier\n",
    "from sklearn.svm import SVC\n",
    "from sklearn.model_selection import train_test_split,GridSearchCV\n",
    "from sklearn.metrics import accuracy_score,precision_score,recall_score,f1_score\n",
    "from sklearn.ensemble import VotingClassifier,RandomForestClassifier, GradientBoostingClassifier"
   ]
  },
  {
   "cell_type": "markdown",
   "metadata": {},
   "source": [
    "### Importing Dataset"
   ]
  },
  {
   "cell_type": "code",
   "execution_count": 2,
   "metadata": {},
   "outputs": [],
   "source": [
    "data = pd.read_csv('heart_disease_data.csv')"
   ]
  },
  {
   "cell_type": "code",
   "execution_count": 3,
   "metadata": {},
   "outputs": [
    {
     "data": {
      "text/html": [
       "<div>\n",
       "<style scoped>\n",
       "    .dataframe tbody tr th:only-of-type {\n",
       "        vertical-align: middle;\n",
       "    }\n",
       "\n",
       "    .dataframe tbody tr th {\n",
       "        vertical-align: top;\n",
       "    }\n",
       "\n",
       "    .dataframe thead th {\n",
       "        text-align: right;\n",
       "    }\n",
       "</style>\n",
       "<table border=\"1\" class=\"dataframe\">\n",
       "  <thead>\n",
       "    <tr style=\"text-align: right;\">\n",
       "      <th></th>\n",
       "      <th>age</th>\n",
       "      <th>sex</th>\n",
       "      <th>cp</th>\n",
       "      <th>trestbps</th>\n",
       "      <th>chol</th>\n",
       "      <th>fbs</th>\n",
       "      <th>restecg</th>\n",
       "      <th>thalach</th>\n",
       "      <th>exang</th>\n",
       "      <th>oldpeak</th>\n",
       "      <th>slope</th>\n",
       "      <th>ca</th>\n",
       "      <th>thal</th>\n",
       "      <th>target</th>\n",
       "    </tr>\n",
       "  </thead>\n",
       "  <tbody>\n",
       "    <tr>\n",
       "      <th>0</th>\n",
       "      <td>63</td>\n",
       "      <td>1</td>\n",
       "      <td>3</td>\n",
       "      <td>145</td>\n",
       "      <td>233</td>\n",
       "      <td>1</td>\n",
       "      <td>0</td>\n",
       "      <td>150</td>\n",
       "      <td>0</td>\n",
       "      <td>2.3</td>\n",
       "      <td>0</td>\n",
       "      <td>0</td>\n",
       "      <td>1</td>\n",
       "      <td>1</td>\n",
       "    </tr>\n",
       "    <tr>\n",
       "      <th>1</th>\n",
       "      <td>37</td>\n",
       "      <td>1</td>\n",
       "      <td>2</td>\n",
       "      <td>130</td>\n",
       "      <td>250</td>\n",
       "      <td>0</td>\n",
       "      <td>1</td>\n",
       "      <td>187</td>\n",
       "      <td>0</td>\n",
       "      <td>3.5</td>\n",
       "      <td>0</td>\n",
       "      <td>0</td>\n",
       "      <td>2</td>\n",
       "      <td>1</td>\n",
       "    </tr>\n",
       "    <tr>\n",
       "      <th>2</th>\n",
       "      <td>41</td>\n",
       "      <td>0</td>\n",
       "      <td>1</td>\n",
       "      <td>130</td>\n",
       "      <td>204</td>\n",
       "      <td>0</td>\n",
       "      <td>0</td>\n",
       "      <td>172</td>\n",
       "      <td>0</td>\n",
       "      <td>1.4</td>\n",
       "      <td>2</td>\n",
       "      <td>0</td>\n",
       "      <td>2</td>\n",
       "      <td>1</td>\n",
       "    </tr>\n",
       "    <tr>\n",
       "      <th>3</th>\n",
       "      <td>56</td>\n",
       "      <td>1</td>\n",
       "      <td>1</td>\n",
       "      <td>120</td>\n",
       "      <td>236</td>\n",
       "      <td>0</td>\n",
       "      <td>1</td>\n",
       "      <td>178</td>\n",
       "      <td>0</td>\n",
       "      <td>0.8</td>\n",
       "      <td>2</td>\n",
       "      <td>0</td>\n",
       "      <td>2</td>\n",
       "      <td>1</td>\n",
       "    </tr>\n",
       "    <tr>\n",
       "      <th>4</th>\n",
       "      <td>57</td>\n",
       "      <td>0</td>\n",
       "      <td>0</td>\n",
       "      <td>120</td>\n",
       "      <td>354</td>\n",
       "      <td>0</td>\n",
       "      <td>1</td>\n",
       "      <td>163</td>\n",
       "      <td>1</td>\n",
       "      <td>0.6</td>\n",
       "      <td>2</td>\n",
       "      <td>0</td>\n",
       "      <td>2</td>\n",
       "      <td>1</td>\n",
       "    </tr>\n",
       "  </tbody>\n",
       "</table>\n",
       "</div>"
      ],
      "text/plain": [
       "   age  sex  cp  trestbps  chol  fbs  restecg  thalach  exang  oldpeak  slope  \\\n",
       "0   63    1   3       145   233    1        0      150      0      2.3      0   \n",
       "1   37    1   2       130   250    0        1      187      0      3.5      0   \n",
       "2   41    0   1       130   204    0        0      172      0      1.4      2   \n",
       "3   56    1   1       120   236    0        1      178      0      0.8      2   \n",
       "4   57    0   0       120   354    0        1      163      1      0.6      2   \n",
       "\n",
       "   ca  thal  target  \n",
       "0   0     1       1  \n",
       "1   0     2       1  \n",
       "2   0     2       1  \n",
       "3   0     2       1  \n",
       "4   0     2       1  "
      ]
     },
     "execution_count": 3,
     "metadata": {},
     "output_type": "execute_result"
    }
   ],
   "source": [
    "data.head()"
   ]
  },
  {
   "cell_type": "code",
   "execution_count": 4,
   "metadata": {},
   "outputs": [
    {
     "data": {
      "text/plain": [
       "target\n",
       "1    165\n",
       "0    138\n",
       "Name: count, dtype: int64"
      ]
     },
     "execution_count": 4,
     "metadata": {},
     "output_type": "execute_result"
    }
   ],
   "source": [
    "data['target'].value_counts()"
   ]
  },
  {
   "cell_type": "code",
   "execution_count": 5,
   "metadata": {},
   "outputs": [
    {
     "name": "stdout",
     "output_type": "stream",
     "text": [
      "<class 'pandas.core.frame.DataFrame'>\n",
      "RangeIndex: 303 entries, 0 to 302\n",
      "Data columns (total 14 columns):\n",
      " #   Column    Non-Null Count  Dtype  \n",
      "---  ------    --------------  -----  \n",
      " 0   age       303 non-null    int64  \n",
      " 1   sex       303 non-null    int64  \n",
      " 2   cp        303 non-null    int64  \n",
      " 3   trestbps  303 non-null    int64  \n",
      " 4   chol      303 non-null    int64  \n",
      " 5   fbs       303 non-null    int64  \n",
      " 6   restecg   303 non-null    int64  \n",
      " 7   thalach   303 non-null    int64  \n",
      " 8   exang     303 non-null    int64  \n",
      " 9   oldpeak   303 non-null    float64\n",
      " 10  slope     303 non-null    int64  \n",
      " 11  ca        303 non-null    int64  \n",
      " 12  thal      303 non-null    int64  \n",
      " 13  target    303 non-null    int64  \n",
      "dtypes: float64(1), int64(13)\n",
      "memory usage: 33.3 KB\n"
     ]
    }
   ],
   "source": [
    "data.info()"
   ]
  },
  {
   "cell_type": "code",
   "execution_count": 6,
   "metadata": {},
   "outputs": [
    {
     "data": {
      "text/html": [
       "<div>\n",
       "<style scoped>\n",
       "    .dataframe tbody tr th:only-of-type {\n",
       "        vertical-align: middle;\n",
       "    }\n",
       "\n",
       "    .dataframe tbody tr th {\n",
       "        vertical-align: top;\n",
       "    }\n",
       "\n",
       "    .dataframe thead th {\n",
       "        text-align: right;\n",
       "    }\n",
       "</style>\n",
       "<table border=\"1\" class=\"dataframe\">\n",
       "  <thead>\n",
       "    <tr style=\"text-align: right;\">\n",
       "      <th></th>\n",
       "      <th>age</th>\n",
       "      <th>sex</th>\n",
       "      <th>cp</th>\n",
       "      <th>trestbps</th>\n",
       "      <th>chol</th>\n",
       "      <th>fbs</th>\n",
       "      <th>restecg</th>\n",
       "      <th>thalach</th>\n",
       "      <th>exang</th>\n",
       "      <th>oldpeak</th>\n",
       "      <th>slope</th>\n",
       "      <th>ca</th>\n",
       "      <th>thal</th>\n",
       "      <th>target</th>\n",
       "    </tr>\n",
       "  </thead>\n",
       "  <tbody>\n",
       "    <tr>\n",
       "      <th>count</th>\n",
       "      <td>303.000000</td>\n",
       "      <td>303.000000</td>\n",
       "      <td>303.000000</td>\n",
       "      <td>303.000000</td>\n",
       "      <td>303.000000</td>\n",
       "      <td>303.000000</td>\n",
       "      <td>303.000000</td>\n",
       "      <td>303.000000</td>\n",
       "      <td>303.000000</td>\n",
       "      <td>303.000000</td>\n",
       "      <td>303.000000</td>\n",
       "      <td>303.000000</td>\n",
       "      <td>303.000000</td>\n",
       "      <td>303.000000</td>\n",
       "    </tr>\n",
       "    <tr>\n",
       "      <th>mean</th>\n",
       "      <td>54.366337</td>\n",
       "      <td>0.683168</td>\n",
       "      <td>0.966997</td>\n",
       "      <td>131.623762</td>\n",
       "      <td>246.264026</td>\n",
       "      <td>0.148515</td>\n",
       "      <td>0.528053</td>\n",
       "      <td>149.646865</td>\n",
       "      <td>0.326733</td>\n",
       "      <td>1.039604</td>\n",
       "      <td>1.399340</td>\n",
       "      <td>0.729373</td>\n",
       "      <td>2.313531</td>\n",
       "      <td>0.544554</td>\n",
       "    </tr>\n",
       "    <tr>\n",
       "      <th>std</th>\n",
       "      <td>9.082101</td>\n",
       "      <td>0.466011</td>\n",
       "      <td>1.032052</td>\n",
       "      <td>17.538143</td>\n",
       "      <td>51.830751</td>\n",
       "      <td>0.356198</td>\n",
       "      <td>0.525860</td>\n",
       "      <td>22.905161</td>\n",
       "      <td>0.469794</td>\n",
       "      <td>1.161075</td>\n",
       "      <td>0.616226</td>\n",
       "      <td>1.022606</td>\n",
       "      <td>0.612277</td>\n",
       "      <td>0.498835</td>\n",
       "    </tr>\n",
       "    <tr>\n",
       "      <th>min</th>\n",
       "      <td>29.000000</td>\n",
       "      <td>0.000000</td>\n",
       "      <td>0.000000</td>\n",
       "      <td>94.000000</td>\n",
       "      <td>126.000000</td>\n",
       "      <td>0.000000</td>\n",
       "      <td>0.000000</td>\n",
       "      <td>71.000000</td>\n",
       "      <td>0.000000</td>\n",
       "      <td>0.000000</td>\n",
       "      <td>0.000000</td>\n",
       "      <td>0.000000</td>\n",
       "      <td>0.000000</td>\n",
       "      <td>0.000000</td>\n",
       "    </tr>\n",
       "    <tr>\n",
       "      <th>25%</th>\n",
       "      <td>47.500000</td>\n",
       "      <td>0.000000</td>\n",
       "      <td>0.000000</td>\n",
       "      <td>120.000000</td>\n",
       "      <td>211.000000</td>\n",
       "      <td>0.000000</td>\n",
       "      <td>0.000000</td>\n",
       "      <td>133.500000</td>\n",
       "      <td>0.000000</td>\n",
       "      <td>0.000000</td>\n",
       "      <td>1.000000</td>\n",
       "      <td>0.000000</td>\n",
       "      <td>2.000000</td>\n",
       "      <td>0.000000</td>\n",
       "    </tr>\n",
       "    <tr>\n",
       "      <th>50%</th>\n",
       "      <td>55.000000</td>\n",
       "      <td>1.000000</td>\n",
       "      <td>1.000000</td>\n",
       "      <td>130.000000</td>\n",
       "      <td>240.000000</td>\n",
       "      <td>0.000000</td>\n",
       "      <td>1.000000</td>\n",
       "      <td>153.000000</td>\n",
       "      <td>0.000000</td>\n",
       "      <td>0.800000</td>\n",
       "      <td>1.000000</td>\n",
       "      <td>0.000000</td>\n",
       "      <td>2.000000</td>\n",
       "      <td>1.000000</td>\n",
       "    </tr>\n",
       "    <tr>\n",
       "      <th>75%</th>\n",
       "      <td>61.000000</td>\n",
       "      <td>1.000000</td>\n",
       "      <td>2.000000</td>\n",
       "      <td>140.000000</td>\n",
       "      <td>274.500000</td>\n",
       "      <td>0.000000</td>\n",
       "      <td>1.000000</td>\n",
       "      <td>166.000000</td>\n",
       "      <td>1.000000</td>\n",
       "      <td>1.600000</td>\n",
       "      <td>2.000000</td>\n",
       "      <td>1.000000</td>\n",
       "      <td>3.000000</td>\n",
       "      <td>1.000000</td>\n",
       "    </tr>\n",
       "    <tr>\n",
       "      <th>max</th>\n",
       "      <td>77.000000</td>\n",
       "      <td>1.000000</td>\n",
       "      <td>3.000000</td>\n",
       "      <td>200.000000</td>\n",
       "      <td>564.000000</td>\n",
       "      <td>1.000000</td>\n",
       "      <td>2.000000</td>\n",
       "      <td>202.000000</td>\n",
       "      <td>1.000000</td>\n",
       "      <td>6.200000</td>\n",
       "      <td>2.000000</td>\n",
       "      <td>4.000000</td>\n",
       "      <td>3.000000</td>\n",
       "      <td>1.000000</td>\n",
       "    </tr>\n",
       "  </tbody>\n",
       "</table>\n",
       "</div>"
      ],
      "text/plain": [
       "              age         sex          cp    trestbps        chol         fbs  \\\n",
       "count  303.000000  303.000000  303.000000  303.000000  303.000000  303.000000   \n",
       "mean    54.366337    0.683168    0.966997  131.623762  246.264026    0.148515   \n",
       "std      9.082101    0.466011    1.032052   17.538143   51.830751    0.356198   \n",
       "min     29.000000    0.000000    0.000000   94.000000  126.000000    0.000000   \n",
       "25%     47.500000    0.000000    0.000000  120.000000  211.000000    0.000000   \n",
       "50%     55.000000    1.000000    1.000000  130.000000  240.000000    0.000000   \n",
       "75%     61.000000    1.000000    2.000000  140.000000  274.500000    0.000000   \n",
       "max     77.000000    1.000000    3.000000  200.000000  564.000000    1.000000   \n",
       "\n",
       "          restecg     thalach       exang     oldpeak       slope          ca  \\\n",
       "count  303.000000  303.000000  303.000000  303.000000  303.000000  303.000000   \n",
       "mean     0.528053  149.646865    0.326733    1.039604    1.399340    0.729373   \n",
       "std      0.525860   22.905161    0.469794    1.161075    0.616226    1.022606   \n",
       "min      0.000000   71.000000    0.000000    0.000000    0.000000    0.000000   \n",
       "25%      0.000000  133.500000    0.000000    0.000000    1.000000    0.000000   \n",
       "50%      1.000000  153.000000    0.000000    0.800000    1.000000    0.000000   \n",
       "75%      1.000000  166.000000    1.000000    1.600000    2.000000    1.000000   \n",
       "max      2.000000  202.000000    1.000000    6.200000    2.000000    4.000000   \n",
       "\n",
       "             thal      target  \n",
       "count  303.000000  303.000000  \n",
       "mean     2.313531    0.544554  \n",
       "std      0.612277    0.498835  \n",
       "min      0.000000    0.000000  \n",
       "25%      2.000000    0.000000  \n",
       "50%      2.000000    1.000000  \n",
       "75%      3.000000    1.000000  \n",
       "max      3.000000    1.000000  "
      ]
     },
     "execution_count": 6,
     "metadata": {},
     "output_type": "execute_result"
    }
   ],
   "source": [
    "data.describe()"
   ]
  },
  {
   "cell_type": "markdown",
   "metadata": {},
   "source": [
    "### Splitting Independent and dependent variables"
   ]
  },
  {
   "cell_type": "code",
   "execution_count": 7,
   "metadata": {},
   "outputs": [],
   "source": [
    "x = data.drop(columns=['target','chol','fbs','restecg'], axis=1)\n",
    "y = data['target']"
   ]
  },
  {
   "cell_type": "code",
   "execution_count": 8,
   "metadata": {},
   "outputs": [
    {
     "data": {
      "text/plain": [
       "(303, 10)"
      ]
     },
     "execution_count": 8,
     "metadata": {},
     "output_type": "execute_result"
    }
   ],
   "source": [
    "x.shape"
   ]
  },
  {
   "cell_type": "code",
   "execution_count": 9,
   "metadata": {},
   "outputs": [
    {
     "name": "stdout",
     "output_type": "stream",
     "text": [
      "<class 'pandas.core.frame.DataFrame'>\n",
      "RangeIndex: 303 entries, 0 to 302\n",
      "Data columns (total 10 columns):\n",
      " #   Column    Non-Null Count  Dtype  \n",
      "---  ------    --------------  -----  \n",
      " 0   age       303 non-null    int64  \n",
      " 1   sex       303 non-null    int64  \n",
      " 2   cp        303 non-null    int64  \n",
      " 3   trestbps  303 non-null    int64  \n",
      " 4   thalach   303 non-null    int64  \n",
      " 5   exang     303 non-null    int64  \n",
      " 6   oldpeak   303 non-null    float64\n",
      " 7   slope     303 non-null    int64  \n",
      " 8   ca        303 non-null    int64  \n",
      " 9   thal      303 non-null    int64  \n",
      "dtypes: float64(1), int64(9)\n",
      "memory usage: 23.8 KB\n"
     ]
    }
   ],
   "source": [
    "x.info()"
   ]
  },
  {
   "cell_type": "markdown",
   "metadata": {},
   "source": [
    "### Encoding Categorical data"
   ]
  },
  {
   "cell_type": "code",
   "execution_count": 10,
   "metadata": {},
   "outputs": [],
   "source": [
    "scaler = StandardScaler()\n",
    "x = scaler.fit_transform(x)"
   ]
  },
  {
   "cell_type": "code",
   "execution_count": 11,
   "metadata": {},
   "outputs": [],
   "source": [
    "from sklearn.decomposition import PCA\n",
    "pca = PCA(n_components=2)\n",
    "X_pca = pca.fit_transform(x)"
   ]
  },
  {
   "cell_type": "code",
   "execution_count": 12,
   "metadata": {},
   "outputs": [
    {
     "data": {
      "text/plain": [
       "['scaler.pkl']"
      ]
     },
     "execution_count": 12,
     "metadata": {},
     "output_type": "execute_result"
    }
   ],
   "source": [
    "import joblib\n",
    "joblib.dump(scaler, 'scaler.pkl')"
   ]
  },
  {
   "cell_type": "markdown",
   "metadata": {},
   "source": [
    "### Splitting data into training and testing data"
   ]
  },
  {
   "cell_type": "code",
   "execution_count": 40,
   "metadata": {},
   "outputs": [
    {
     "name": "stdout",
     "output_type": "stream",
     "text": [
      "(5,) (242, 2) (61, 2)\n"
     ]
    }
   ],
   "source": [
    "x_train,x_test,y_train,y_test = train_test_split(X_pca,y, test_size = 0.2, random_state = 2, stratify = y)\n",
    "print(x.shape,x_train.shape,x_test.shape)"
   ]
  },
  {
   "cell_type": "markdown",
   "metadata": {},
   "source": [
    "### Searching best parameters"
   ]
  },
  {
   "cell_type": "code",
   "execution_count": 41,
   "metadata": {},
   "outputs": [
    {
     "name": "stdout",
     "output_type": "stream",
     "text": [
      "Best Parameters knn: {'metric': 'manhattan', 'n_neighbors': 19, 'weights': 'uniform'}\n",
      "Best Cross-Validation Score knn: 0.8467687074829933 \n",
      "\n"
     ]
    }
   ],
   "source": [
    "#KNN best parameters\n",
    "knn = KNeighborsClassifier()\n",
    "param_grid_knn = {\n",
    "    'n_neighbors': list(range(3,32,2)),\n",
    "    'weights': ['uniform', 'distance'],\n",
    "    'metric': ['euclidean', 'manhattan']\n",
    "}\n",
    "\n",
    "grid_search_knn = GridSearchCV(estimator=knn, param_grid=param_grid_knn, cv=5, scoring='accuracy')\n",
    "\n",
    "grid_search_knn.fit(x_train, y_train)\n",
    "\n",
    "best_params_knn = grid_search_knn.best_params_\n",
    "best_score_knn = grid_search_knn.best_score_\n",
    "\n",
    "print(f\"Best Parameters knn: {best_params_knn}\")\n",
    "print(f\"Best Cross-Validation Score knn: {best_score_knn} \\n\")"
   ]
  },
  {
   "cell_type": "code",
   "execution_count": 42,
   "metadata": {},
   "outputs": [
    {
     "name": "stdout",
     "output_type": "stream",
     "text": [
      "Best Parameters svm: {'C': 0.25, 'kernel': 'linear'}\n",
      "Best Cross-Validation Score svm: 0.8342687074829932 \n",
      "\n"
     ]
    }
   ],
   "source": [
    "# SVM best parameters\n",
    "svm = SVC()\n",
    "param_grid_svm = {\n",
    "    'C' : [2**i for i in range(-8, 9)],\n",
    "    'kernel' : ['linear', 'poly']\n",
    "}\n",
    "\n",
    "grid_search_svm = GridSearchCV(estimator=svm, param_grid=param_grid_svm, cv=5, scoring='accuracy')\n",
    "\n",
    "grid_search_svm.fit(x_train, y_train)\n",
    "\n",
    "best_params_svm = grid_search_svm.best_params_\n",
    "best_score_svm = grid_search_svm.best_score_\n",
    "\n",
    "print(f\"Best Parameters svm: {best_params_svm}\")\n",
    "print(f\"Best Cross-Validation Score svm: {best_score_svm} \\n\")"
   ]
  },
  {
   "cell_type": "code",
   "execution_count": 43,
   "metadata": {},
   "outputs": [
    {
     "name": "stdout",
     "output_type": "stream",
     "text": [
      "Best Parameters lor: {'max_iter': 100}\n",
      "Best Cross-Validation Score lor: 0.830187074829932 \n",
      "\n"
     ]
    }
   ],
   "source": [
    "# Logistic regression Best parameters\n",
    "lor = LogisticRegression()\n",
    "param_grid_lor = {\n",
    "    \n",
    "    'max_iter' : [100,200,300,400,500]\n",
    "}\n",
    "\n",
    "grid_search_lor = GridSearchCV(estimator=lor, param_grid=param_grid_lor, cv=5, scoring='accuracy')\n",
    "\n",
    "grid_search_lor.fit(x_train, y_train)\n",
    "\n",
    "best_params_lor = grid_search_lor.best_params_\n",
    "best_score_lor = grid_search_lor.best_score_\n",
    "\n",
    "print(f\"Best Parameters lor: {best_params_lor}\")\n",
    "print(f\"Best Cross-Validation Score lor: {best_score_lor} \\n\")"
   ]
  },
  {
   "cell_type": "code",
   "execution_count": 44,
   "metadata": {},
   "outputs": [
    {
     "name": "stdout",
     "output_type": "stream",
     "text": [
      "Best Parameters Random forest: {'bootstrap': True, 'max_features': 'log2', 'max_samples': 0.5, 'n_estimators': 100}\n",
      "Best Cross-Validation Score Random forest: 0.8219387755102041 \n",
      "\n"
     ]
    }
   ],
   "source": [
    "#Random Forest Best parameters\n",
    "rf = RandomForestClassifier()\n",
    "\n",
    "param_grid_rf = {\n",
    "    'n_estimators': [10, 50, 100, 200,500],\n",
    "    'max_features': [0.5 , 0.8,'sqrt', 'log2'],\n",
    "    'bootstrap': [True],   \n",
    "    'max_samples': [None,0.5]     \n",
    "}\n",
    "\n",
    "grid_search_rf = GridSearchCV(estimator=rf, param_grid=param_grid_rf, cv=5, scoring='accuracy')\n",
    "\n",
    "grid_search_rf.fit(x_train, y_train)\n",
    "\n",
    "best_params_rf = grid_search_rf.best_params_\n",
    "best_score_rf = grid_search_rf.best_score_\n",
    "\n",
    "print(f\"Best Parameters Random forest: {best_params_rf}\")\n",
    "print(f\"Best Cross-Validation Score Random forest: {best_score_rf} \\n\")"
   ]
  },
  {
   "cell_type": "code",
   "execution_count": 45,
   "metadata": {},
   "outputs": [
    {
     "name": "stdout",
     "output_type": "stream",
     "text": [
      "Best Parameters gradient boosting classifier: {'criterion': 'squared_error', 'learning_rate': 0.01, 'loss': 'exponential', 'max_depth': 3, 'max_features': 'log2', 'n_estimators': 100}\n",
      "Best Cross-Validation gradient boosting classifier: 0.8260204081632653 \n",
      "\n"
     ]
    }
   ],
   "source": [
    "# Gradient boosting algorithm\n",
    "gbc = GradientBoostingClassifier()\n",
    "\n",
    "param_grid_gbc = {\n",
    "    'n_estimators' : [50,100,200],\n",
    "    'learning_rate' : [0.01,0.1,0.2],\n",
    "    'max_features' : ['sqrt', 'log2'],\n",
    "    'loss' : ['log_loss', 'exponential'],\n",
    "    'max_depth' : [3,4,5],\n",
    "    'criterion' : ['friedman_mse', 'squared_error']\n",
    "}\n",
    "\n",
    "grid_search_gbc = GridSearchCV(estimator=gbc, param_grid=param_grid_gbc, cv=5, scoring='accuracy')\n",
    "\n",
    "grid_search_gbc.fit(x_train, y_train)\n",
    "\n",
    "best_params_gbc = grid_search_gbc.best_params_\n",
    "best_score_gbc = grid_search_gbc.best_score_\n",
    "\n",
    "print(f\"Best Parameters gradient boosting classifier: {best_params_gbc}\")\n",
    "print(f\"Best Cross-Validation gradient boosting classifier: {best_score_gbc} \\n\")\n"
   ]
  },
  {
   "cell_type": "markdown",
   "metadata": {},
   "source": [
    "### Model training using different classifiers"
   ]
  },
  {
   "cell_type": "code",
   "execution_count": 19,
   "metadata": {},
   "outputs": [],
   "source": [
    "log_clf = LogisticRegression(random_state=42, **best_params_lor)\n",
    "knn_clf = KNeighborsClassifier(**best_params_knn)\n",
    "svm_clf = SVC(random_state=42, probability=True, **best_params_svm)\n",
    "rf_clf = RandomForestClassifier(random_state=42, **best_params_rf)\n",
    "gbc_clf = GradientBoostingClassifier(random_state=42, **best_params_gbc)"
   ]
  },
  {
   "cell_type": "code",
   "execution_count": 20,
   "metadata": {},
   "outputs": [
    {
     "name": "stdout",
     "output_type": "stream",
     "text": [
      "logistic regression accuracy 0.819672131147541\n",
      "logistic regression precision: 0.8484848484848485\n",
      "logistic regression recall: 0.8235294117647058\n",
      "logistic regression f1_score 0.835820895522388 \n",
      "\n"
     ]
    }
   ],
   "source": [
    "# Accuracy of logistic regression\n",
    "log_clf.fit(x_train,y_train)\n",
    "y_pred_log = log_clf.predict(x_test)\n",
    "accuracy_log = accuracy_score(y_pred_log,y_test)\n",
    "precision_log = precision_score(y_pred_log,y_test)\n",
    "recall_log = recall_score(y_pred_log,y_test)\n",
    "f1_score_log = f1_score(y_pred_log,y_test)\n",
    "print(f\"logistic regression accuracy {accuracy_log}\")\n",
    "print(f\"logistic regression precision: {precision_log}\")\n",
    "print(f\"logistic regression recall: {recall_log}\")\n",
    "print(f\"logistic regression f1_score {f1_score_log} \\n\")"
   ]
  },
  {
   "cell_type": "code",
   "execution_count": 21,
   "metadata": {},
   "outputs": [
    {
     "name": "stdout",
     "output_type": "stream",
     "text": [
      "KNN accuracy 0.7213114754098361\n",
      "KNN precision 0.75\n",
      "KNN recall 0.7272727272727273\n",
      "KNN f1_score 0.7384615384615385 \n",
      "\n"
     ]
    }
   ],
   "source": [
    "# Accuracy of KNeighbours Classifier\n",
    "knn_clf.fit(x_train,y_train)\n",
    "y_pred_knn = knn_clf.predict(x_test)\n",
    "accuracy_knn = accuracy_score(y_test,y_pred_knn)\n",
    "precision_knn = precision_score(y_test,y_pred_knn)\n",
    "recall_knn = recall_score(y_test,y_pred_knn)\n",
    "f1_score_knn = f1_score(y_test,y_pred_knn)\n",
    "print(f\"KNN accuracy {accuracy_knn}\")\n",
    "print(f\"KNN precision {precision_knn}\")\n",
    "print(f\"KNN recall {recall_knn}\")\n",
    "print(f\"KNN f1_score {f1_score_knn} \\n\")"
   ]
  },
  {
   "cell_type": "code",
   "execution_count": 22,
   "metadata": {},
   "outputs": [
    {
     "name": "stdout",
     "output_type": "stream",
     "text": [
      "Svm accuracy: 0.8032786885245902\n",
      "Svm precision: 0.8\n",
      "Svm recall 0.8484848484848485\n",
      "Svm f1_score 0.8235294117647058 \n",
      "\n"
     ]
    }
   ],
   "source": [
    "# Accuracy of SVM\n",
    "svm_clf.fit(x_train,y_train)\n",
    "y_pred_svm = svm_clf.predict(x_test)\n",
    "accuracy_svm = accuracy_score(y_test,y_pred_svm)\n",
    "precision_svm = precision_score(y_test,y_pred_svm)\n",
    "recall_svm = recall_score(y_test,y_pred_svm)\n",
    "f1_score_svm = f1_score(y_test,y_pred_svm)\n",
    "print(f\"Svm accuracy: {accuracy_svm}\")\n",
    "print(f\"Svm precision: {precision_svm}\")\n",
    "print(f\"Svm recall {recall_svm}\")\n",
    "print(f\"Svm f1_score {f1_score_svm} \\n\")"
   ]
  },
  {
   "cell_type": "code",
   "execution_count": 23,
   "metadata": {},
   "outputs": [
    {
     "name": "stdout",
     "output_type": "stream",
     "text": [
      "Random forest accuracy: 0.7704918032786885\n",
      "Random forest recall: 0.7575757575757576\n",
      "Random forest precision: 0.8064516129032258\n",
      "Random forest f1 score: 0.78125\n"
     ]
    }
   ],
   "source": [
    "# Accuracy of Random Forest\n",
    "rf_clf.fit(x_train,y_train)\n",
    "y_pred_rf = rf_clf.predict(x_test)\n",
    "accuracy_rf = accuracy_score(y_test,y_pred_rf)\n",
    "precision_rf = precision_score(y_test,y_pred_rf)\n",
    "recall_rf = recall_score(y_test, y_pred_rf)\n",
    "f1_score_rf = f1_score(y_test,y_pred_rf)\n",
    "print(f\"Random forest accuracy: {accuracy_rf}\")\n",
    "print(f\"Random forest recall: {recall_rf}\")\n",
    "print(f\"Random forest precision: {precision_rf}\")\n",
    "print(f\"Random forest f1 score: {f1_score_rf}\")"
   ]
  },
  {
   "cell_type": "code",
   "execution_count": 24,
   "metadata": {},
   "outputs": [
    {
     "name": "stdout",
     "output_type": "stream",
     "text": [
      "Gradient Boosting Classifier accuracy 0.7540983606557377\n",
      "Gradient Boosting Classifier precision: 0.7575757575757576\n",
      "Gradient Boosting Classifier recall: 0.78125\n",
      "Gradient Boosting Classifier f1_score 0.7692307692307693 \n",
      "\n"
     ]
    }
   ],
   "source": [
    "# Accuracy of Gradient boosting classifier\n",
    "gbc_clf.fit(x_train,y_train)\n",
    "y_pred_gbc = gbc_clf.predict(x_test)\n",
    "accuracy_gbc = accuracy_score(y_pred_gbc,y_test)\n",
    "precision_gbc = precision_score(y_pred_gbc,y_test)\n",
    "recall_gbc = recall_score(y_pred_gbc,y_test)\n",
    "f1_score_gbc = f1_score(y_pred_gbc,y_test)\n",
    "print(f\"Gradient Boosting Classifier accuracy {accuracy_gbc}\")\n",
    "print(f\"Gradient Boosting Classifier precision: {precision_gbc}\")\n",
    "print(f\"Gradient Boosting Classifier recall: {recall_gbc}\")\n",
    "print(f\"Gradient Boosting Classifier f1_score {f1_score_gbc} \\n\")"
   ]
  },
  {
   "cell_type": "code",
   "execution_count": 25,
   "metadata": {},
   "outputs": [
    {
     "name": "stdout",
     "output_type": "stream",
     "text": [
      "Hard Voting Ensemble Test Accuracy: 0.7540983606557377\n",
      "Hard Voting Ensemble Precision: 0.7647058823529411\n",
      "Hard Voting Ensemble Recall: 0.7878787878787878\n",
      "Hard Voting Ensemble f1_score: 0.7761194029850746 \n",
      "\n"
     ]
    }
   ],
   "source": [
    "hard_voting_clf= VotingClassifier(\n",
    "    estimators=[('lr', log_clf), ('knn', knn_clf), ('svc', svm_clf), ('rf', rf_clf), ('gbc', gbc_clf)],\n",
    "    voting='hard', weights=[0.8,0.8,0.8,1,0.8]\n",
    ")\n",
    "\n",
    "# Accuracy of  Hard Voting classifier\n",
    "hard_voting_clf.fit(x_train,y_train)\n",
    "y_pred_HVclf = hard_voting_clf.predict(x_test)\n",
    "accuracy_HVclf = accuracy_score(y_test,y_pred_HVclf)\n",
    "precision_HVclf = precision_score(y_test,y_pred_HVclf)\n",
    "recall_HVclf = recall_score(y_test,y_pred_HVclf)\n",
    "f1_score_HVclf = f1_score(y_test,y_pred_HVclf)\n",
    "print(f\"Hard Voting Ensemble Test Accuracy: {accuracy_HVclf}\")\n",
    "print(f\"Hard Voting Ensemble Precision: {precision_HVclf}\")\n",
    "print(f\"Hard Voting Ensemble Recall: {recall_HVclf}\")\n",
    "print(f\"Hard Voting Ensemble f1_score: {f1_score_HVclf} \\n\")"
   ]
  },
  {
   "cell_type": "code",
   "execution_count": 26,
   "metadata": {},
   "outputs": [
    {
     "name": "stdout",
     "output_type": "stream",
     "text": [
      "\n",
      " Soft Voting Ensemble Test Accuracy: 0.7868852459016393\n",
      "Soft Voting Ensemble Precision: 0.7941176470588235\n",
      "Soft Voting Ensemble Recall: 0.8181818181818182\n",
      "Soft Voting Ensemble f1_score: 0.8059701492537313\n"
     ]
    }
   ],
   "source": [
    "soft_voting_clf= VotingClassifier(\n",
    "    estimators=[('lr', log_clf), ('knn', knn_clf), ('svc', svm_clf), ('rf', rf_clf), ('gbc', gbc_clf)],\n",
    "    voting='soft'\n",
    ")\n",
    "\n",
    "# Accuracy of Soft Voting classifier\n",
    "soft_voting_clf.fit(x_train,y_train)\n",
    "y_pred_SVclf = soft_voting_clf.predict(x_test)\n",
    "accuracy_SVclf = accuracy_score(y_test,y_pred_SVclf)\n",
    "precision_SVclf = precision_score(y_test,y_pred_SVclf)\n",
    "recall_SVclf = recall_score(y_test,y_pred_SVclf)\n",
    "f1_score_SVclf = f1_score(y_test,y_pred_SVclf)\n",
    "print(f\"\\n Soft Voting Ensemble Test Accuracy: {accuracy_SVclf}\")\n",
    "print(f\"Soft Voting Ensemble Precision: {precision_SVclf}\")\n",
    "print(f\"Soft Voting Ensemble Recall: {recall_SVclf}\")\n",
    "print(f\"Soft Voting Ensemble f1_score: {f1_score_SVclf}\")"
   ]
  },
  {
   "cell_type": "markdown",
   "metadata": {},
   "source": [
    "### Plotting Accuracies"
   ]
  },
  {
   "cell_type": "code",
   "execution_count": 27,
   "metadata": {},
   "outputs": [
    {
     "data": {
      "image/png": "[encoded data removed]",
      "text/plain": [
       "<Figure size 800x400 with 1 Axes>"
      ]
     },
     "metadata": {},
     "output_type": "display_data"
    }
   ],
   "source": [
    "classifiers = ['LOR', 'K-NN', 'SVM', 'RF','GBC']\n",
    "accuracy = [accuracy_log,accuracy_knn,accuracy_svm,accuracy_rf,accuracy_gbc]  \n",
    "precision = [precision_log,precision_knn,precision_svm,precision_rf,precision_gbc] \n",
    "recall = [recall_log,recall_knn,recall_svm,recall_rf,recall_gbc] \n",
    "\n",
    "x = np.arange(len(classifiers))\n",
    "\n",
    "# Plotting the lines\n",
    "plt.figure(figsize=(8, 4))\n",
    "plt.plot(x, accuracy, marker='o', label='Accuracy', linestyle='-', color='blue')\n",
    "plt.plot(x, precision, marker='s', label='Precision', linestyle='--', color='green')\n",
    "plt.plot(x, recall, marker='^', label='Recall', linestyle='-.', color='red')\n",
    "\n",
    "# Adding labels, title, and custom x-axis tick labels\n",
    "plt.xlabel('Classifier')\n",
    "plt.ylabel('Score')\n",
    "plt.title('Comparison of Accuracy, Precision, and Recall')\n",
    "plt.xticks(x, classifiers)\n",
    "plt.ylim(0, 1)\n",
    "\n",
    "# Adding a legend and grid\n",
    "plt.legend()\n",
    "plt.grid(axis='y', linestyle='--', alpha=0.7)\n",
    "\n",
    "# Display the plot\n",
    "plt.show()"
   ]
  },
  {
   "cell_type": "markdown",
   "metadata": {},
   "source": [
    "### Analyzing the overlap between Classifiers prediction"
   ]
  },
  {
   "cell_type": "code",
   "execution_count": 28,
   "metadata": {},
   "outputs": [],
   "source": [
    "pred_df = pd.DataFrame({'log_pred': y_pred_log, 'knn_pred': y_pred_knn, 'svm_pred': y_pred_svm, 'Rf_pred': y_pred_rf })\n",
    "\n",
    "y_test_df = pd.DataFrame(y_test, columns=['True_Label'])\n",
    "\n",
    "pred_df = pd.concat([pred_df, y_test.reset_index(drop=True)], axis=1)"
   ]
  },
  {
   "cell_type": "code",
   "execution_count": 29,
   "metadata": {},
   "outputs": [],
   "source": [
    "pred_df['gbc_pred'] = y_pred_gbc"
   ]
  },
  {
   "cell_type": "code",
   "execution_count": 30,
   "metadata": {},
   "outputs": [],
   "source": [
    "pred_df['All_Agree'] = (pred_df['log_pred'] == pred_df['knn_pred']) & \\\n",
    "                       (pred_df['knn_pred'] == pred_df['svm_pred']) & \\\n",
    "                       (pred_df['svm_pred'] == pred_df['Rf_pred'])"
   ]
  },
  {
   "cell_type": "code",
   "execution_count": 31,
   "metadata": {},
   "outputs": [
    {
     "data": {
      "text/plain": [
       "47"
      ]
     },
     "execution_count": 31,
     "metadata": {},
     "output_type": "execute_result"
    }
   ],
   "source": [
    "pred_df['All_Agree'].sum()"
   ]
  },
  {
   "cell_type": "code",
   "execution_count": 32,
   "metadata": {},
   "outputs": [],
   "source": [
    "pred_df['At_Least_Two_Agree'] = ((pred_df['log_pred'] == pred_df['knn_pred']) | \n",
    "                                 (pred_df['log_pred'] == pred_df['svm_pred']) | \n",
    "                                 (pred_df['log_pred'] == pred_df['Rf_pred']) | \n",
    "                                 (pred_df['knn_pred'] == pred_df['svm_pred']) | \n",
    "                                 (pred_df['knn_pred'] == pred_df['Rf_pred']) | \n",
    "                                 (pred_df['svm_pred'] == pred_df['Rf_pred']))"
   ]
  },
  {
   "cell_type": "code",
   "execution_count": 33,
   "metadata": {},
   "outputs": [
    {
     "data": {
      "text/plain": [
       "61"
      ]
     },
     "execution_count": 33,
     "metadata": {},
     "output_type": "execute_result"
    }
   ],
   "source": [
    "pred_df['At_Least_Two_Agree'].sum()"
   ]
  },
  {
   "cell_type": "code",
   "execution_count": 34,
   "metadata": {},
   "outputs": [],
   "source": [
    "pred_df['rc'] = ((pred_df['log_pred'] == pred_df['knn_pred']) & \n",
    "                 (pred_df['log_pred'] == pred_df['svm_pred']) &\n",
    "                 (pred_df['log_pred'] == pred_df['Rf_pred']))"
   ]
  },
  {
   "cell_type": "code",
   "execution_count": 35,
   "metadata": {},
   "outputs": [
    {
     "data": {
      "text/plain": [
       "47"
      ]
     },
     "execution_count": 35,
     "metadata": {},
     "output_type": "execute_result"
    }
   ],
   "source": [
    "pred_df['rc'].sum()"
   ]
  },
  {
   "cell_type": "code",
   "execution_count": 36,
   "metadata": {},
   "outputs": [
    {
     "name": "stdout",
     "output_type": "stream",
     "text": [
      "<class 'pandas.core.frame.DataFrame'>\n",
      "RangeIndex: 61 entries, 0 to 60\n",
      "Data columns (total 9 columns):\n",
      " #   Column              Non-Null Count  Dtype\n",
      "---  ------              --------------  -----\n",
      " 0   log_pred            61 non-null     int64\n",
      " 1   knn_pred            61 non-null     int64\n",
      " 2   svm_pred            61 non-null     int64\n",
      " 3   Rf_pred             61 non-null     int64\n",
      " 4   target              61 non-null     int64\n",
      " 5   gbc_pred            61 non-null     int64\n",
      " 6   All_Agree           61 non-null     bool \n",
      " 7   At_Least_Two_Agree  61 non-null     bool \n",
      " 8   rc                  61 non-null     bool \n",
      "dtypes: bool(3), int64(6)\n",
      "memory usage: 3.2 KB\n"
     ]
    }
   ],
   "source": [
    "pred_df.info()"
   ]
  },
  {
   "cell_type": "code",
   "execution_count": 37,
   "metadata": {},
   "outputs": [
    {
     "data": {
      "text/html": [
       "<div>\n",
       "<style scoped>\n",
       "    .dataframe tbody tr th:only-of-type {\n",
       "        vertical-align: middle;\n",
       "    }\n",
       "\n",
       "    .dataframe tbody tr th {\n",
       "        vertical-align: top;\n",
       "    }\n",
       "\n",
       "    .dataframe thead th {\n",
       "        text-align: right;\n",
       "    }\n",
       "</style>\n",
       "<table border=\"1\" class=\"dataframe\">\n",
       "  <thead>\n",
       "    <tr style=\"text-align: right;\">\n",
       "      <th></th>\n",
       "      <th>log_pred</th>\n",
       "      <th>knn_pred</th>\n",
       "      <th>svm_pred</th>\n",
       "      <th>Rf_pred</th>\n",
       "      <th>target</th>\n",
       "      <th>gbc_pred</th>\n",
       "    </tr>\n",
       "  </thead>\n",
       "  <tbody>\n",
       "    <tr>\n",
       "      <th>count</th>\n",
       "      <td>61.000000</td>\n",
       "      <td>61.000000</td>\n",
       "      <td>61.000000</td>\n",
       "      <td>61.000000</td>\n",
       "      <td>61.000000</td>\n",
       "      <td>61.000000</td>\n",
       "    </tr>\n",
       "    <tr>\n",
       "      <th>mean</th>\n",
       "      <td>0.557377</td>\n",
       "      <td>0.524590</td>\n",
       "      <td>0.573770</td>\n",
       "      <td>0.508197</td>\n",
       "      <td>0.540984</td>\n",
       "      <td>0.524590</td>\n",
       "    </tr>\n",
       "    <tr>\n",
       "      <th>std</th>\n",
       "      <td>0.500819</td>\n",
       "      <td>0.503539</td>\n",
       "      <td>0.498632</td>\n",
       "      <td>0.504082</td>\n",
       "      <td>0.502453</td>\n",
       "      <td>0.503539</td>\n",
       "    </tr>\n",
       "    <tr>\n",
       "      <th>min</th>\n",
       "      <td>0.000000</td>\n",
       "      <td>0.000000</td>\n",
       "      <td>0.000000</td>\n",
       "      <td>0.000000</td>\n",
       "      <td>0.000000</td>\n",
       "      <td>0.000000</td>\n",
       "    </tr>\n",
       "    <tr>\n",
       "      <th>25%</th>\n",
       "      <td>0.000000</td>\n",
       "      <td>0.000000</td>\n",
       "      <td>0.000000</td>\n",
       "      <td>0.000000</td>\n",
       "      <td>0.000000</td>\n",
       "      <td>0.000000</td>\n",
       "    </tr>\n",
       "    <tr>\n",
       "      <th>50%</th>\n",
       "      <td>1.000000</td>\n",
       "      <td>1.000000</td>\n",
       "      <td>1.000000</td>\n",
       "      <td>1.000000</td>\n",
       "      <td>1.000000</td>\n",
       "      <td>1.000000</td>\n",
       "    </tr>\n",
       "    <tr>\n",
       "      <th>75%</th>\n",
       "      <td>1.000000</td>\n",
       "      <td>1.000000</td>\n",
       "      <td>1.000000</td>\n",
       "      <td>1.000000</td>\n",
       "      <td>1.000000</td>\n",
       "      <td>1.000000</td>\n",
       "    </tr>\n",
       "    <tr>\n",
       "      <th>max</th>\n",
       "      <td>1.000000</td>\n",
       "      <td>1.000000</td>\n",
       "      <td>1.000000</td>\n",
       "      <td>1.000000</td>\n",
       "      <td>1.000000</td>\n",
       "      <td>1.000000</td>\n",
       "    </tr>\n",
       "  </tbody>\n",
       "</table>\n",
       "</div>"
      ],
      "text/plain": [
       "        log_pred   knn_pred   svm_pred    Rf_pred     target   gbc_pred\n",
       "count  61.000000  61.000000  61.000000  61.000000  61.000000  61.000000\n",
       "mean    0.557377   0.524590   0.573770   0.508197   0.540984   0.524590\n",
       "std     0.500819   0.503539   0.498632   0.504082   0.502453   0.503539\n",
       "min     0.000000   0.000000   0.000000   0.000000   0.000000   0.000000\n",
       "25%     0.000000   0.000000   0.000000   0.000000   0.000000   0.000000\n",
       "50%     1.000000   1.000000   1.000000   1.000000   1.000000   1.000000\n",
       "75%     1.000000   1.000000   1.000000   1.000000   1.000000   1.000000\n",
       "max     1.000000   1.000000   1.000000   1.000000   1.000000   1.000000"
      ]
     },
     "execution_count": 37,
     "metadata": {},
     "output_type": "execute_result"
    }
   ],
   "source": [
    "pred_df.describe()"
   ]
  },
  {
   "cell_type": "code",
   "execution_count": 38,
   "metadata": {},
   "outputs": [],
   "source": [
    "pred_df.drop(columns=['At_Least_Two_Agree', 'rc'], axis=1, inplace=True)"
   ]
  },
  {
   "cell_type": "code",
   "execution_count": 39,
   "metadata": {},
   "outputs": [
    {
     "name": "stdout",
     "output_type": "stream",
     "text": [
      "Combination of models with the most disagreement: ('knn_pred', 'svm_pred', 'Rf_pred')\n",
      "Number of instances where these models disagree: 14\n"
     ]
    }
   ],
   "source": [
    "from itertools import combinations\n",
    "max_disagreement = None\n",
    "worst_combo = None\n",
    "\n",
    "# Iterate over all combinations of three models\n",
    "for combo in combinations(['log_pred', 'knn_pred', 'svm_pred', 'Rf_pred', 'gbc_pred'], 3):\n",
    "    disagree_count = (~((pred_df[combo[0]] == pred_df[combo[1]]) & (pred_df[combo[1]] == pred_df[combo[2]]))).sum()\n",
    "    if max_disagreement is None or disagree_count > max_disagreement:\n",
    "        max_disagreement = disagree_count\n",
    "        worst_combo = combo\n",
    "\n",
    "print(f\"Combination of models with the most disagreement: {worst_combo}\")\n",
    "print(f\"Number of instances where these models disagree: {max_disagreement}\")"
   ]
  },
  {
   "cell_type": "code",
   "execution_count": null,
   "metadata": {},
   "outputs": [],
   "source": []
  }
 ],
 "metadata": {
  "kernelspec": {
   "display_name": "base",
   "language": "python",
   "name": "python3"
  },
  "language_info": {
   "codemirror_mode": {
    "name": "ipython",
    "version": 3
   },
   "file_extension": ".py",
   "mimetype": "text/x-python",
   "name": "python",
   "nbconvert_exporter": "python",
   "pygments_lexer": "ipython3",
   "version": "3.12.4"
  }
 },
 "nbformat": 4,
 "nbformat_minor": 2
}
